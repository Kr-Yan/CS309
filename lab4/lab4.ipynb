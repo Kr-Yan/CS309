{
 "cells": [
  {
   "cell_type": "code",
   "execution_count": 1,
   "metadata": {},
   "outputs": [
    {
     "name": "stdout",
     "output_type": "stream",
     "text": [
      "mRNA alignment score: 5\n",
      "-AG-CTC\n",
      "TAGCCT-\n"
     ]
    }
   ],
   "source": [
    "from Bio import Entrez, SeqIO\n",
    "\n",
    "import compbio\n",
    "\n",
    "def main():\n",
    "    Entrez.email = \"reiche_n1@denison.edu\"\n",
    "\n",
    "    eyelessProtein = compbio.getSequencesFromNCBI(\"protein\", \"NP_524628.2\")[0]\n",
    "    eyelessmRNA = compbio.getSequencesFromNCBI(\"nucleotide\", \"NM_079889.3\")[0]\n",
    "    eyelessGenomeDNA = compbio.getSequencesFromFile(\"eyeless_genomic_sequence.fasta\")[0]\n",
    "\n",
    "    pax6Protein = compbio.getSequencesFromNCBI(\"protein\", \"1902328A\")[0]\n",
    "    pax6mRNA = compbio.getSequencesFromNCBI(\"nucleotide\", \"NM_000280.4\")[0]\n",
    "    pax6GenomeDNA = compbio.getSequencesFromFile(\"PAX6_genomic_sequence.fasta\")[0]\n",
    "\n",
    "    #compbio.dotplot(eyelessProtein, pax6Protein, 4)\n",
    "    #compbio.dotplot(eyelessmRNA, pax6mRNA, 8)\n",
    "\n",
    "    indelPenalty = -1\n",
    "    basicDNASubstitutionMatrix = {\n",
    "            ('A','A'):  1, ('A','C'): -1, ('A','G'): -1, ('A','T'): -1,\n",
    "            ('C','A'): -1, ('C','C'):  1, ('C','G'): -1, ('C','T'): -1,\n",
    "            ('G','A'): -1, ('G','C'): -1, ('G','G'):  1, ('G','T'): -1,\n",
    "            ('T','A'): -1, ('T','C'): -1, ('T','G'): -1, ('T','T'):  1,\n",
    "    }\n",
    "    score, [eyelessAlignment, pax6Alignment] = compbio.globalAlignment(eyelessmRNA, pax6mRNA, basicDNASubstitutionMatrix, indelPenalty)\n",
    "    print(f\"mRNA alignment score: {score}\")\n",
    "    print(eyelessAlignment[:120])\n",
    "    print(pax6Alignment[:120])\n",
    "\n",
    "main()\n",
    "\n",
    "\n"
   ]
  },
  {
   "cell_type": "code",
   "execution_count": null,
   "metadata": {},
   "outputs": [],
   "source": []
  }
 ],
 "metadata": {
  "kernelspec": {
   "display_name": "Python 3",
   "language": "python",
   "name": "python3"
  },
  "language_info": {
   "codemirror_mode": {
    "name": "ipython",
    "version": 3
   },
   "file_extension": ".py",
   "mimetype": "text/x-python",
   "name": "python",
   "nbconvert_exporter": "python",
   "pygments_lexer": "ipython3",
   "version": "3.7.6"
  }
 },
 "nbformat": 4,
 "nbformat_minor": 4
}
